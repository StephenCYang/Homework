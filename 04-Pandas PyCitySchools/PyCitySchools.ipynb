{
 "cells": [
  {
   "cell_type": "markdown",
   "metadata": {},
   "source": [
    "### Note\n",
    "* Instructions have been included for each segment. You do not have to follow them exactly, but they are included to help you think through the steps."
   ]
  },
  {
   "cell_type": "code",
   "execution_count": 1,
   "metadata": {},
   "outputs": [],
   "source": [
    "# Dependencies and Setup\n",
    "import pandas as pd\n",
    "import numpy as np\n",
    "from array import *\n",
    "\n",
    "# File to Load (Remember to Change These)\n",
    "school_data_to_load = \"Resources/schools_complete.csv\"\n",
    "student_data_to_load = \"Resources/students_complete.csv\"\n",
    "\n",
    "# Read School and Student Data File and store into Pandas DataFrames\n",
    "school_data = pd.read_csv(school_data_to_load)\n",
    "student_data = pd.read_csv(student_data_to_load)\n",
    "\n",
    "# Combine the data into a single dataset.  \n",
    "school_data_complete = pd.merge(student_data, school_data, how=\"left\", on=[\"school_name\", \"school_name\"])"
   ]
  },
  {
   "cell_type": "markdown",
   "metadata": {},
   "source": [
    "## District Summary\n",
    "\n",
    "* Calculate the total number of schools\n",
    "\n",
    "* Calculate the total number of students\n",
    "\n",
    "* Calculate the total budget\n",
    "\n",
    "* Calculate the average math score \n",
    "\n",
    "* Calculate the average reading score\n",
    "\n",
    "* Calculate the percentage of students with a passing math score (70 or greater)\n",
    "\n",
    "* Calculate the percentage of students with a passing reading score (70 or greater)\n",
    "\n",
    "* Calculate the percentage of students who passed math **and** reading (% Overall Passing)\n",
    "\n",
    "* Create a dataframe to hold the above results\n",
    "\n",
    "* Optional: give the displayed data cleaner formatting"
   ]
  },
  {
   "cell_type": "code",
   "execution_count": 2,
   "metadata": {},
   "outputs": [
    {
     "data": {
      "text/plain": [
       "Index(['Student ID', 'student_name', 'gender', 'grade', 'school_name',\n",
       "       'reading_score', 'math_score', 'School ID', 'type', 'size', 'budget'],\n",
       "      dtype='object')"
      ]
     },
     "execution_count": 2,
     "metadata": {},
     "output_type": "execute_result"
    }
   ],
   "source": [
    "#school_data_complete.describe()\n",
    "school_data_complete.columns"
   ]
  },
  {
   "cell_type": "code",
   "execution_count": 7,
   "metadata": {},
   "outputs": [
    {
     "data": {
      "text/html": [
       "<div>\n",
       "<style scoped>\n",
       "    .dataframe tbody tr th:only-of-type {\n",
       "        vertical-align: middle;\n",
       "    }\n",
       "\n",
       "    .dataframe tbody tr th {\n",
       "        vertical-align: top;\n",
       "    }\n",
       "\n",
       "    .dataframe thead th {\n",
       "        text-align: right;\n",
       "    }\n",
       "</style>\n",
       "<table border=\"1\" class=\"dataframe\">\n",
       "  <thead>\n",
       "    <tr style=\"text-align: right;\">\n",
       "      <th></th>\n",
       "      <th>Total Schools</th>\n",
       "      <th>Total Students</th>\n",
       "      <th>Total Budget</th>\n",
       "      <th>Average Math Score</th>\n",
       "      <th>Average Reading Score</th>\n",
       "      <th>% Passing Math</th>\n",
       "      <th>% Passing Reading</th>\n",
       "      <th>% Overall Passing</th>\n",
       "    </tr>\n",
       "  </thead>\n",
       "  <tbody>\n",
       "    <tr>\n",
       "      <td>0</td>\n",
       "      <td>15</td>\n",
       "      <td>39170</td>\n",
       "      <td>24649428</td>\n",
       "      <td>78.985371</td>\n",
       "      <td>78.985371</td>\n",
       "      <td>74.980853</td>\n",
       "      <td>85.805463</td>\n",
       "      <td>65.172326</td>\n",
       "    </tr>\n",
       "  </tbody>\n",
       "</table>\n",
       "</div>"
      ],
      "text/plain": [
       "   Total Schools  Total Students  Total Budget  Average Math Score  \\\n",
       "0             15           39170      24649428           78.985371   \n",
       "\n",
       "   Average Reading Score  % Passing Math  % Passing Reading  % Overall Passing  \n",
       "0              78.985371       74.980853          85.805463          65.172326  "
      ]
     },
     "execution_count": 7,
     "metadata": {},
     "output_type": "execute_result"
    }
   ],
   "source": [
    "Total_Schools = len(school_data_complete['school_name'].unique())\n",
    "Total_Students = len(school_data_complete['Student ID'])\n",
    "Total_Budget = sum(school_data_complete['budget'].unique())\n",
    "Average_Math_Score = school_data_complete['math_score'].mean()\n",
    "Average_Reading_Score = school_data_complete['reading_score'].mean()\n",
    "Passing_Math_df=school_data_complete.loc[school_data_complete['math_score'] >= 70]\n",
    "Passing_Math = (len(Passing_Math_df)/Total_Students)*100\n",
    "Passing_Reading_df = school_data_complete.loc[school_data_complete['reading_score'] >= 70]\n",
    "Passing_Reading = (len(Passing_Reading_df)/Total_Students)*100\n",
    "Passing_df = school_data_complete.loc[(school_data_complete['reading_score'] >= 70) & (school_data_complete['math_score'] >= 70)]\n",
    "Passing = (len(Passing_df)/Total_Students)*100\n",
    "df = pd.DataFrame({\"Total Schools\":Total_Schools,\n",
    "                 \"Total Students\":Total_Students,\n",
    "                 \"Total Budget\":Total_Budget,\n",
    "                 \"Average Math Score\":Average_Math_Score,\n",
    "                 \"Average Reading Score\":Average_Math_Score,\n",
    "                 \"% Passing Math\":Passing_Math,\n",
    "                 \"% Passing Reading\":Passing_Reading,\n",
    "                 \"% Overall Passing\":Passing},index=[0])\n",
    "df"
   ]
  },
  {
   "cell_type": "code",
   "execution_count": null,
   "metadata": {},
   "outputs": [],
   "source": []
  },
  {
   "cell_type": "markdown",
   "metadata": {},
   "source": [
    "## School Summary"
   ]
  },
  {
   "cell_type": "markdown",
   "metadata": {},
   "source": [
    "* Create an overview table that summarizes key metrics about each school, including:\n",
    "  * School Name\n",
    "  * School Type\n",
    "  * Total Students\n",
    "  * Total School Budget\n",
    "  * Per Student Budget\n",
    "  * Average Math Score\n",
    "  * Average Reading Score\n",
    "  * % Passing Math\n",
    "  * % Passing Reading\n",
    "  * % Overall Passing (The percentage of students that passed math **and** reading.)\n",
    "  \n",
    "* Create a dataframe to hold the above results"
   ]
  },
  {
   "cell_type": "code",
   "execution_count": 8,
   "metadata": {},
   "outputs": [],
   "source": [
    "#Brendan's code. Not sure what to do with it. Ignoring for now.\n",
    "grouped_school = school_data_complete.groupby(['school_name'])\n",
    "type(grouped_school)\n",
    "avg_read_school = grouped_school['reading_score'].mean()\n",
    "avg_math_school = grouped_school['math_score'].mean()\n",
    "school_size = grouped_school['size'].count()\n",
    "school_budget = grouped_school['budget'].mean()\n",
    "per_student = school_budget/school_size\n",
    "school_type = grouped_school['type'].unique()\n",
    "#print(avg_read_school)\n",
    "#print(avg_math_school)\n",
    "#print(school_size)\n",
    "#print(school_budget)\n",
    "#print(per_student)\n",
    "#print(school_type)"
   ]
  },
  {
   "cell_type": "code",
   "execution_count": 9,
   "metadata": {},
   "outputs": [
    {
     "data": {
      "text/plain": [
       "['Bailey High School',\n",
       " 'Cabrera High School',\n",
       " 'Figueroa High School',\n",
       " 'Ford High School',\n",
       " 'Griffin High School',\n",
       " 'Hernandez High School',\n",
       " 'Holden High School',\n",
       " 'Huang High School',\n",
       " 'Johnson High School',\n",
       " 'Pena High School',\n",
       " 'Rodriguez High School',\n",
       " 'Shelton High School',\n",
       " 'Thomas High School',\n",
       " 'Wilson High School',\n",
       " 'Wright High School']"
      ]
     },
     "execution_count": 9,
     "metadata": {},
     "output_type": "execute_result"
    }
   ],
   "source": [
    "schools_array = (school_data_complete.school_name.unique())\n",
    "schools_list = schools_array.tolist()\n",
    "schools_list.sort()\n",
    "schools_list"
   ]
  },
  {
   "cell_type": "code",
   "execution_count": 10,
   "metadata": {},
   "outputs": [
    {
     "data": {
      "text/html": [
       "<div>\n",
       "<style scoped>\n",
       "    .dataframe tbody tr th:only-of-type {\n",
       "        vertical-align: middle;\n",
       "    }\n",
       "\n",
       "    .dataframe tbody tr th {\n",
       "        vertical-align: top;\n",
       "    }\n",
       "\n",
       "    .dataframe thead th {\n",
       "        text-align: right;\n",
       "    }\n",
       "</style>\n",
       "<table border=\"1\" class=\"dataframe\">\n",
       "  <thead>\n",
       "    <tr style=\"text-align: right;\">\n",
       "      <th></th>\n",
       "      <th>Student ID</th>\n",
       "      <th>student_name</th>\n",
       "      <th>gender</th>\n",
       "      <th>grade</th>\n",
       "      <th>reading_score</th>\n",
       "      <th>math_score</th>\n",
       "      <th>School ID</th>\n",
       "      <th>type</th>\n",
       "      <th>size</th>\n",
       "      <th>budget</th>\n",
       "    </tr>\n",
       "    <tr>\n",
       "      <th>school_name</th>\n",
       "      <th></th>\n",
       "      <th></th>\n",
       "      <th></th>\n",
       "      <th></th>\n",
       "      <th></th>\n",
       "      <th></th>\n",
       "      <th></th>\n",
       "      <th></th>\n",
       "      <th></th>\n",
       "      <th></th>\n",
       "    </tr>\n",
       "  </thead>\n",
       "  <tbody>\n",
       "    <tr>\n",
       "      <td>Bailey High School</td>\n",
       "      <td>17871</td>\n",
       "      <td>Blake Martin</td>\n",
       "      <td>M</td>\n",
       "      <td>9th</td>\n",
       "      <td>75</td>\n",
       "      <td>59</td>\n",
       "      <td>7</td>\n",
       "      <td>District</td>\n",
       "      <td>4976</td>\n",
       "      <td>3124928</td>\n",
       "    </tr>\n",
       "    <tr>\n",
       "      <td>Cabrera High School</td>\n",
       "      <td>16013</td>\n",
       "      <td>Olivia Short</td>\n",
       "      <td>F</td>\n",
       "      <td>11th</td>\n",
       "      <td>94</td>\n",
       "      <td>94</td>\n",
       "      <td>6</td>\n",
       "      <td>Charter</td>\n",
       "      <td>1858</td>\n",
       "      <td>1081356</td>\n",
       "    </tr>\n",
       "    <tr>\n",
       "      <td>Figueroa High School</td>\n",
       "      <td>2917</td>\n",
       "      <td>Amy Jacobs</td>\n",
       "      <td>F</td>\n",
       "      <td>10th</td>\n",
       "      <td>85</td>\n",
       "      <td>87</td>\n",
       "      <td>1</td>\n",
       "      <td>District</td>\n",
       "      <td>2949</td>\n",
       "      <td>1884411</td>\n",
       "    </tr>\n",
       "    <tr>\n",
       "      <td>Ford High School</td>\n",
       "      <td>34796</td>\n",
       "      <td>Michael Mercado</td>\n",
       "      <td>M</td>\n",
       "      <td>9th</td>\n",
       "      <td>66</td>\n",
       "      <td>94</td>\n",
       "      <td>13</td>\n",
       "      <td>District</td>\n",
       "      <td>2739</td>\n",
       "      <td>1763916</td>\n",
       "    </tr>\n",
       "    <tr>\n",
       "      <td>Griffin High School</td>\n",
       "      <td>12262</td>\n",
       "      <td>Heather Wright</td>\n",
       "      <td>F</td>\n",
       "      <td>11th</td>\n",
       "      <td>79</td>\n",
       "      <td>68</td>\n",
       "      <td>4</td>\n",
       "      <td>Charter</td>\n",
       "      <td>1468</td>\n",
       "      <td>917500</td>\n",
       "    </tr>\n",
       "    <tr>\n",
       "      <td>Hernandez High School</td>\n",
       "      <td>7627</td>\n",
       "      <td>Russell Davis</td>\n",
       "      <td>M</td>\n",
       "      <td>10th</td>\n",
       "      <td>70</td>\n",
       "      <td>88</td>\n",
       "      <td>3</td>\n",
       "      <td>District</td>\n",
       "      <td>4635</td>\n",
       "      <td>3022020</td>\n",
       "    </tr>\n",
       "    <tr>\n",
       "      <td>Holden High School</td>\n",
       "      <td>22847</td>\n",
       "      <td>Daniel Rodriguez</td>\n",
       "      <td>M</td>\n",
       "      <td>11th</td>\n",
       "      <td>86</td>\n",
       "      <td>92</td>\n",
       "      <td>8</td>\n",
       "      <td>Charter</td>\n",
       "      <td>427</td>\n",
       "      <td>248087</td>\n",
       "    </tr>\n",
       "    <tr>\n",
       "      <td>Huang High School</td>\n",
       "      <td>0</td>\n",
       "      <td>Paul Bradley</td>\n",
       "      <td>M</td>\n",
       "      <td>9th</td>\n",
       "      <td>66</td>\n",
       "      <td>79</td>\n",
       "      <td>0</td>\n",
       "      <td>District</td>\n",
       "      <td>2917</td>\n",
       "      <td>1910635</td>\n",
       "    </tr>\n",
       "    <tr>\n",
       "      <td>Johnson High School</td>\n",
       "      <td>30035</td>\n",
       "      <td>Lisa Casey</td>\n",
       "      <td>F</td>\n",
       "      <td>12th</td>\n",
       "      <td>87</td>\n",
       "      <td>87</td>\n",
       "      <td>12</td>\n",
       "      <td>District</td>\n",
       "      <td>4761</td>\n",
       "      <td>3094650</td>\n",
       "    </tr>\n",
       "    <tr>\n",
       "      <td>Pena High School</td>\n",
       "      <td>23274</td>\n",
       "      <td>Alec Davis</td>\n",
       "      <td>M</td>\n",
       "      <td>9th</td>\n",
       "      <td>91</td>\n",
       "      <td>75</td>\n",
       "      <td>9</td>\n",
       "      <td>Charter</td>\n",
       "      <td>962</td>\n",
       "      <td>585858</td>\n",
       "    </tr>\n",
       "    <tr>\n",
       "      <td>Rodriguez High School</td>\n",
       "      <td>26036</td>\n",
       "      <td>Sherry Jenkins</td>\n",
       "      <td>F</td>\n",
       "      <td>11th</td>\n",
       "      <td>74</td>\n",
       "      <td>81</td>\n",
       "      <td>11</td>\n",
       "      <td>District</td>\n",
       "      <td>3999</td>\n",
       "      <td>2547363</td>\n",
       "    </tr>\n",
       "    <tr>\n",
       "      <td>Shelton High School</td>\n",
       "      <td>5866</td>\n",
       "      <td>Jamie Montgomery</td>\n",
       "      <td>F</td>\n",
       "      <td>12th</td>\n",
       "      <td>70</td>\n",
       "      <td>91</td>\n",
       "      <td>2</td>\n",
       "      <td>Charter</td>\n",
       "      <td>1761</td>\n",
       "      <td>1056600</td>\n",
       "    </tr>\n",
       "    <tr>\n",
       "      <td>Thomas High School</td>\n",
       "      <td>37535</td>\n",
       "      <td>Norma Mata</td>\n",
       "      <td>F</td>\n",
       "      <td>10th</td>\n",
       "      <td>76</td>\n",
       "      <td>76</td>\n",
       "      <td>14</td>\n",
       "      <td>Charter</td>\n",
       "      <td>1635</td>\n",
       "      <td>1043130</td>\n",
       "    </tr>\n",
       "    <tr>\n",
       "      <td>Wilson High School</td>\n",
       "      <td>13730</td>\n",
       "      <td>Kelli Anderson</td>\n",
       "      <td>F</td>\n",
       "      <td>10th</td>\n",
       "      <td>84</td>\n",
       "      <td>71</td>\n",
       "      <td>5</td>\n",
       "      <td>Charter</td>\n",
       "      <td>2283</td>\n",
       "      <td>1319574</td>\n",
       "    </tr>\n",
       "    <tr>\n",
       "      <td>Wright High School</td>\n",
       "      <td>24236</td>\n",
       "      <td>Aaron Johnson</td>\n",
       "      <td>M</td>\n",
       "      <td>10th</td>\n",
       "      <td>89</td>\n",
       "      <td>72</td>\n",
       "      <td>10</td>\n",
       "      <td>Charter</td>\n",
       "      <td>1800</td>\n",
       "      <td>1049400</td>\n",
       "    </tr>\n",
       "  </tbody>\n",
       "</table>\n",
       "</div>"
      ],
      "text/plain": [
       "                       Student ID      student_name gender grade  \\\n",
       "school_name                                                        \n",
       "Bailey High School          17871      Blake Martin      M   9th   \n",
       "Cabrera High School         16013      Olivia Short      F  11th   \n",
       "Figueroa High School         2917        Amy Jacobs      F  10th   \n",
       "Ford High School            34796   Michael Mercado      M   9th   \n",
       "Griffin High School         12262    Heather Wright      F  11th   \n",
       "Hernandez High School        7627     Russell Davis      M  10th   \n",
       "Holden High School          22847  Daniel Rodriguez      M  11th   \n",
       "Huang High School               0      Paul Bradley      M   9th   \n",
       "Johnson High School         30035        Lisa Casey      F  12th   \n",
       "Pena High School            23274        Alec Davis      M   9th   \n",
       "Rodriguez High School       26036    Sherry Jenkins      F  11th   \n",
       "Shelton High School          5866  Jamie Montgomery      F  12th   \n",
       "Thomas High School          37535        Norma Mata      F  10th   \n",
       "Wilson High School          13730    Kelli Anderson      F  10th   \n",
       "Wright High School          24236     Aaron Johnson      M  10th   \n",
       "\n",
       "                       reading_score  math_score  School ID      type  size  \\\n",
       "school_name                                                                   \n",
       "Bailey High School                75          59          7  District  4976   \n",
       "Cabrera High School               94          94          6   Charter  1858   \n",
       "Figueroa High School              85          87          1  District  2949   \n",
       "Ford High School                  66          94         13  District  2739   \n",
       "Griffin High School               79          68          4   Charter  1468   \n",
       "Hernandez High School             70          88          3  District  4635   \n",
       "Holden High School                86          92          8   Charter   427   \n",
       "Huang High School                 66          79          0  District  2917   \n",
       "Johnson High School               87          87         12  District  4761   \n",
       "Pena High School                  91          75          9   Charter   962   \n",
       "Rodriguez High School             74          81         11  District  3999   \n",
       "Shelton High School               70          91          2   Charter  1761   \n",
       "Thomas High School                76          76         14   Charter  1635   \n",
       "Wilson High School                84          71          5   Charter  2283   \n",
       "Wright High School                89          72         10   Charter  1800   \n",
       "\n",
       "                        budget  \n",
       "school_name                     \n",
       "Bailey High School     3124928  \n",
       "Cabrera High School    1081356  \n",
       "Figueroa High School   1884411  \n",
       "Ford High School       1763916  \n",
       "Griffin High School     917500  \n",
       "Hernandez High School  3022020  \n",
       "Holden High School      248087  \n",
       "Huang High School      1910635  \n",
       "Johnson High School    3094650  \n",
       "Pena High School        585858  \n",
       "Rodriguez High School  2547363  \n",
       "Shelton High School    1056600  \n",
       "Thomas High School     1043130  \n",
       "Wilson High School     1319574  \n",
       "Wright High School     1049400  "
      ]
     },
     "execution_count": 10,
     "metadata": {},
     "output_type": "execute_result"
    }
   ],
   "source": [
    "school_data_complete.drop(['Student ID','student_name','gender','grade'],axis=1) #why didn't this work?\n",
    "grouped_school_data = school_data_complete.groupby('school_name')\n",
    "grouped_school_data.first()\n"
   ]
  },
  {
   "cell_type": "code",
   "execution_count": 26,
   "metadata": {},
   "outputs": [
    {
     "ename": "NameError",
     "evalue": "name 'df_student' is not defined",
     "output_type": "error",
     "traceback": [
      "\u001b[1;31m---------------------------------------------------------------------------\u001b[0m",
      "\u001b[1;31mNameError\u001b[0m                                 Traceback (most recent call last)",
      "\u001b[1;32m<ipython-input-26-12577be6e9ef>\u001b[0m in \u001b[0;36m<module>\u001b[1;34m\u001b[0m\n\u001b[0;32m     12\u001b[0m \u001b[1;33m\u001b[0m\u001b[0m\n\u001b[0;32m     13\u001b[0m \u001b[1;31m# Count total students per school and add to school data\u001b[0m\u001b[1;33m\u001b[0m\u001b[1;33m\u001b[0m\u001b[1;33m\u001b[0m\u001b[0m\n\u001b[1;32m---> 14\u001b[1;33m \u001b[0mschool_counts\u001b[0m \u001b[1;33m=\u001b[0m \u001b[0mdf_student\u001b[0m\u001b[1;33m[\u001b[0m\u001b[1;34m'school'\u001b[0m\u001b[1;33m]\u001b[0m\u001b[1;33m.\u001b[0m\u001b[0mvalue_counts\u001b[0m\u001b[1;33m(\u001b[0m\u001b[1;33m)\u001b[0m\u001b[1;33m\u001b[0m\u001b[1;33m\u001b[0m\u001b[0m\n\u001b[0m\u001b[0;32m     15\u001b[0m \u001b[1;33m\u001b[0m\u001b[0m\n\u001b[0;32m     16\u001b[0m \u001b[1;31m# Calculate average Math Score per school and add to school data\u001b[0m\u001b[1;33m\u001b[0m\u001b[1;33m\u001b[0m\u001b[1;33m\u001b[0m\u001b[0m\n",
      "\u001b[1;31mNameError\u001b[0m: name 'df_student' is not defined"
     ]
    }
   ],
   "source": [
    "# Use columns from df_school and rename columns\n",
    "school_data_temp = school_data_complete[['school_name', 'type','budget']]\n",
    "school_data_renamed = school_data_temp.rename(columns={'school_name':'School Name', 'type':'School Type','budget':'Total School Budget'})\n",
    "\n",
    "# Calculate Per Student Budget and create data frame\n",
    "student_budget_calc = school_data_complete['budget']/school_data_complete['size']\n",
    "student_budget_df = pd.DataFrame({'Per Student Budget': student_budget_calc})\n",
    "\n",
    "# merge data sets and change index to School Name\n",
    "school_data_updated = pd.merge(school_data_renamed, student_budget_df, left_index=True, right_index=True)\n",
    "school_data_index = school_data_updated.set_index('School Name')\n",
    "\n",
    "# Count total students per school and add to school data\n",
    "school_counts = df_student['school'].value_counts()\n",
    "\n",
    "# Calculate average Math Score per school and add to school data\n",
    "grouped_by_school = df_student.groupby('school')\n",
    "avg_math_by_school = grouped_by_school['math_score'].mean()\n",
    "\n",
    "# Calculate average Reading Score per schoola and add to school data\n",
    "avg_read_by_school = grouped_by_school['reading_score'].mean()\n",
    "\n",
    "# Calculate % passing math\n",
    "count_mathscores_byschool = grouped_by_school['math_score'].count()\n",
    "df_passing_math_only = passing_math_df[['school','math_score']]\n",
    "group_passing_math_byschool = df_passing_math_only.groupby('school')\n",
    "count_passing_math_byschool = group_passing_math_byschool['math_score'].count()\n",
    "percent_passing_math_byschool = count_passing_math_byschool / count_mathscores_byschool * 100\n",
    "\n",
    "# Calculate % passing reading\n",
    "count_readscores_byschool = grouped_by_school['reading_score'].count()\n",
    "df_passing_read_only = passing_reading_df[['school','reading_score']]\n",
    "group_passing_read_byschool = df_passing_read_only.groupby('school')\n",
    "count_passing_read_byschool = group_passing_read_byschool['reading_score'].count()\n",
    "percent_passing_read_byschool = count_passing_read_byschool / count_readscores_byschool * 100\n",
    "\n",
    "# Overall Passing Rate (Average of the above two)\n",
    "overall_passing_rate_byschool = (percent_passing_math_byschool + percent_passing_read_byschool)/2\n",
    "\n",
    "# create dataframe summarizing calculations and merge with school data\n",
    "school_summary = pd.DataFrame({'Total Students': school_counts,\n",
    "                               'Average Math Score': avg_math_by_school,\n",
    "                               'Average Reading Score': avg_read_by_school,\n",
    "                               '% Passing Math': percent_passing_math_byschool,\n",
    "                               '% Passing Reading': percent_passing_read_byschool,\n",
    "                               '% Overall Passing Rate': overall_passing_rate_byschool})\n",
    "school_summary_merged = pd.merge(school_data_index, school_summary, left_index=True, right_index=True)\n",
    "\n",
    "# format and sortcolumns\n",
    "school_summary_sorted_column = school_summary_merged[['School Type', 'Total Students', 'Total School Budget', 'Per Student Budget',\n",
    "                                               'Average Math Score','Average Reading Score','% Passing Math', \n",
    "                                               '% Passing Reading','% Overall Passing Rate']]\n",
    "\n",
    "school_summary_sorted_column['Total Students'] = school_summary_sorted_column.apply(lambda x: \"{:,}\".format(x['Total Students']), axis=1)\n",
    "school_summary_sorted_column['Total School Budget'] = school_summary_sorted_column['Total School Budget'].map('${:,.2f}'.format)\n",
    "school_summary_sorted_column['Per Student Budget'] = school_summary_sorted_column['Per Student Budget'].map('${:,.2f}'.format)\n",
    "\n",
    "school_summary_sorted_column\n",
    "    "
   ]
  },
  {
   "cell_type": "code",
   "execution_count": null,
   "metadata": {},
   "outputs": [],
   "source": []
  },
  {
   "cell_type": "markdown",
   "metadata": {},
   "source": [
    "## Top Performing Schools (By % Overall Passing)"
   ]
  },
  {
   "cell_type": "markdown",
   "metadata": {},
   "source": [
    "* Sort and display the top five performing schools by % overall passing."
   ]
  },
  {
   "cell_type": "code",
   "execution_count": null,
   "metadata": {
    "scrolled": true
   },
   "outputs": [],
   "source": []
  },
  {
   "cell_type": "markdown",
   "metadata": {},
   "source": [
    "## Bottom Performing Schools (By % Overall Passing)"
   ]
  },
  {
   "cell_type": "markdown",
   "metadata": {},
   "source": [
    "* Sort and display the five worst-performing schools by % overall passing."
   ]
  },
  {
   "cell_type": "code",
   "execution_count": null,
   "metadata": {},
   "outputs": [],
   "source": []
  },
  {
   "cell_type": "markdown",
   "metadata": {
    "collapsed": true
   },
   "source": [
    "## Math Scores by Grade"
   ]
  },
  {
   "cell_type": "markdown",
   "metadata": {},
   "source": [
    "* Create a table that lists the average Reading Score for students of each grade level (9th, 10th, 11th, 12th) at each school.\n",
    "\n",
    "  * Create a pandas series for each grade. Hint: use a conditional statement.\n",
    "  \n",
    "  * Group each series by school\n",
    "  \n",
    "  * Combine the series into a dataframe\n",
    "  \n",
    "  * Optional: give the displayed data cleaner formatting"
   ]
  },
  {
   "cell_type": "code",
   "execution_count": null,
   "metadata": {},
   "outputs": [],
   "source": []
  },
  {
   "cell_type": "markdown",
   "metadata": {},
   "source": [
    "## Reading Score by Grade "
   ]
  },
  {
   "cell_type": "markdown",
   "metadata": {},
   "source": [
    "* Perform the same operations as above for reading scores"
   ]
  },
  {
   "cell_type": "code",
   "execution_count": null,
   "metadata": {},
   "outputs": [],
   "source": []
  },
  {
   "cell_type": "markdown",
   "metadata": {},
   "source": [
    "## Scores by School Spending"
   ]
  },
  {
   "cell_type": "markdown",
   "metadata": {},
   "source": [
    "* Create a table that breaks down school performances based on average Spending Ranges (Per Student). Use 4 reasonable bins to group school spending. Include in the table each of the following:\n",
    "  * Average Math Score\n",
    "  * Average Reading Score\n",
    "  * % Passing Math\n",
    "  * % Passing Reading\n",
    "  * Overall Passing Rate (Average of the above two)"
   ]
  },
  {
   "cell_type": "code",
   "execution_count": null,
   "metadata": {},
   "outputs": [],
   "source": []
  },
  {
   "cell_type": "markdown",
   "metadata": {},
   "source": [
    "## Scores by School Size"
   ]
  },
  {
   "cell_type": "markdown",
   "metadata": {},
   "source": [
    "* Perform the same operations as above, based on school size."
   ]
  },
  {
   "cell_type": "code",
   "execution_count": null,
   "metadata": {
    "scrolled": true
   },
   "outputs": [],
   "source": []
  },
  {
   "cell_type": "markdown",
   "metadata": {},
   "source": [
    "## Scores by School Type"
   ]
  },
  {
   "cell_type": "markdown",
   "metadata": {},
   "source": [
    "* Perform the same operations as above, based on school type"
   ]
  },
  {
   "cell_type": "code",
   "execution_count": null,
   "metadata": {},
   "outputs": [],
   "source": []
  },
  {
   "cell_type": "code",
   "execution_count": null,
   "metadata": {},
   "outputs": [],
   "source": []
  }
 ],
 "metadata": {
  "anaconda-cloud": {},
  "kernel_info": {
   "name": "python3"
  },
  "kernelspec": {
   "display_name": "Python 3",
   "language": "python",
   "name": "python3"
  },
  "language_info": {
   "codemirror_mode": {
    "name": "ipython",
    "version": 3
   },
   "file_extension": ".py",
   "mimetype": "text/x-python",
   "name": "python",
   "nbconvert_exporter": "python",
   "pygments_lexer": "ipython3",
   "version": "3.7.4"
  },
  "latex_envs": {
   "LaTeX_envs_menu_present": true,
   "autoclose": false,
   "autocomplete": true,
   "bibliofile": "biblio.bib",
   "cite_by": "apalike",
   "current_citInitial": 1,
   "eqLabelWithNumbers": true,
   "eqNumInitial": 1,
   "hotkeys": {
    "equation": "Ctrl-E",
    "itemize": "Ctrl-I"
   },
   "labels_anchors": false,
   "latex_user_defs": false,
   "report_style_numbering": false,
   "user_envs_cfg": false
  },
  "nteract": {
   "version": "0.8.4"
  }
 },
 "nbformat": 4,
 "nbformat_minor": 1
}
