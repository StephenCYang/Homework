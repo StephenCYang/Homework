{
 "cells": [
  {
   "cell_type": "markdown",
   "metadata": {},
   "source": [
    "## Observations and Insights "
   ]
  },
  {
   "cell_type": "markdown",
   "metadata": {},
   "source": []
  },
  {
   "cell_type": "code",
   "execution_count": 1,
   "metadata": {},
   "outputs": [
    {
     "data": {
      "text/html": [
       "<div>\n",
       "<style scoped>\n",
       "    .dataframe tbody tr th:only-of-type {\n",
       "        vertical-align: middle;\n",
       "    }\n",
       "\n",
       "    .dataframe tbody tr th {\n",
       "        vertical-align: top;\n",
       "    }\n",
       "\n",
       "    .dataframe thead th {\n",
       "        text-align: right;\n",
       "    }\n",
       "</style>\n",
       "<table border=\"1\" class=\"dataframe\">\n",
       "  <thead>\n",
       "    <tr style=\"text-align: right;\">\n",
       "      <th></th>\n",
       "      <th>Mouse ID</th>\n",
       "      <th>Drug Regimen</th>\n",
       "      <th>Sex</th>\n",
       "      <th>Age_months</th>\n",
       "      <th>Weight (g)</th>\n",
       "      <th>Timepoint</th>\n",
       "      <th>Tumor Volume (mm3)</th>\n",
       "      <th>Metastatic Sites</th>\n",
       "    </tr>\n",
       "  </thead>\n",
       "  <tbody>\n",
       "    <tr>\n",
       "      <td>0</td>\n",
       "      <td>k403</td>\n",
       "      <td>Ramicane</td>\n",
       "      <td>Male</td>\n",
       "      <td>21</td>\n",
       "      <td>16</td>\n",
       "      <td>0</td>\n",
       "      <td>45.000000</td>\n",
       "      <td>0</td>\n",
       "    </tr>\n",
       "    <tr>\n",
       "      <td>1</td>\n",
       "      <td>k403</td>\n",
       "      <td>Ramicane</td>\n",
       "      <td>Male</td>\n",
       "      <td>21</td>\n",
       "      <td>16</td>\n",
       "      <td>5</td>\n",
       "      <td>38.825898</td>\n",
       "      <td>0</td>\n",
       "    </tr>\n",
       "    <tr>\n",
       "      <td>2</td>\n",
       "      <td>k403</td>\n",
       "      <td>Ramicane</td>\n",
       "      <td>Male</td>\n",
       "      <td>21</td>\n",
       "      <td>16</td>\n",
       "      <td>10</td>\n",
       "      <td>35.014271</td>\n",
       "      <td>1</td>\n",
       "    </tr>\n",
       "    <tr>\n",
       "      <td>3</td>\n",
       "      <td>k403</td>\n",
       "      <td>Ramicane</td>\n",
       "      <td>Male</td>\n",
       "      <td>21</td>\n",
       "      <td>16</td>\n",
       "      <td>15</td>\n",
       "      <td>34.223992</td>\n",
       "      <td>1</td>\n",
       "    </tr>\n",
       "    <tr>\n",
       "      <td>4</td>\n",
       "      <td>k403</td>\n",
       "      <td>Ramicane</td>\n",
       "      <td>Male</td>\n",
       "      <td>21</td>\n",
       "      <td>16</td>\n",
       "      <td>20</td>\n",
       "      <td>32.997729</td>\n",
       "      <td>1</td>\n",
       "    </tr>\n",
       "    <tr>\n",
       "      <td>...</td>\n",
       "      <td>...</td>\n",
       "      <td>...</td>\n",
       "      <td>...</td>\n",
       "      <td>...</td>\n",
       "      <td>...</td>\n",
       "      <td>...</td>\n",
       "      <td>...</td>\n",
       "      <td>...</td>\n",
       "    </tr>\n",
       "    <tr>\n",
       "      <td>1888</td>\n",
       "      <td>z969</td>\n",
       "      <td>Naftisol</td>\n",
       "      <td>Male</td>\n",
       "      <td>9</td>\n",
       "      <td>30</td>\n",
       "      <td>25</td>\n",
       "      <td>63.145652</td>\n",
       "      <td>2</td>\n",
       "    </tr>\n",
       "    <tr>\n",
       "      <td>1889</td>\n",
       "      <td>z969</td>\n",
       "      <td>Naftisol</td>\n",
       "      <td>Male</td>\n",
       "      <td>9</td>\n",
       "      <td>30</td>\n",
       "      <td>30</td>\n",
       "      <td>65.841013</td>\n",
       "      <td>3</td>\n",
       "    </tr>\n",
       "    <tr>\n",
       "      <td>1890</td>\n",
       "      <td>z969</td>\n",
       "      <td>Naftisol</td>\n",
       "      <td>Male</td>\n",
       "      <td>9</td>\n",
       "      <td>30</td>\n",
       "      <td>35</td>\n",
       "      <td>69.176246</td>\n",
       "      <td>4</td>\n",
       "    </tr>\n",
       "    <tr>\n",
       "      <td>1891</td>\n",
       "      <td>z969</td>\n",
       "      <td>Naftisol</td>\n",
       "      <td>Male</td>\n",
       "      <td>9</td>\n",
       "      <td>30</td>\n",
       "      <td>40</td>\n",
       "      <td>70.314904</td>\n",
       "      <td>4</td>\n",
       "    </tr>\n",
       "    <tr>\n",
       "      <td>1892</td>\n",
       "      <td>z969</td>\n",
       "      <td>Naftisol</td>\n",
       "      <td>Male</td>\n",
       "      <td>9</td>\n",
       "      <td>30</td>\n",
       "      <td>45</td>\n",
       "      <td>73.867845</td>\n",
       "      <td>4</td>\n",
       "    </tr>\n",
       "  </tbody>\n",
       "</table>\n",
       "<p>1893 rows × 8 columns</p>\n",
       "</div>"
      ],
      "text/plain": [
       "     Mouse ID Drug Regimen   Sex  Age_months  Weight (g)  Timepoint  \\\n",
       "0        k403     Ramicane  Male          21          16          0   \n",
       "1        k403     Ramicane  Male          21          16          5   \n",
       "2        k403     Ramicane  Male          21          16         10   \n",
       "3        k403     Ramicane  Male          21          16         15   \n",
       "4        k403     Ramicane  Male          21          16         20   \n",
       "...       ...          ...   ...         ...         ...        ...   \n",
       "1888     z969     Naftisol  Male           9          30         25   \n",
       "1889     z969     Naftisol  Male           9          30         30   \n",
       "1890     z969     Naftisol  Male           9          30         35   \n",
       "1891     z969     Naftisol  Male           9          30         40   \n",
       "1892     z969     Naftisol  Male           9          30         45   \n",
       "\n",
       "      Tumor Volume (mm3)  Metastatic Sites  \n",
       "0              45.000000                 0  \n",
       "1              38.825898                 0  \n",
       "2              35.014271                 1  \n",
       "3              34.223992                 1  \n",
       "4              32.997729                 1  \n",
       "...                  ...               ...  \n",
       "1888           63.145652                 2  \n",
       "1889           65.841013                 3  \n",
       "1890           69.176246                 4  \n",
       "1891           70.314904                 4  \n",
       "1892           73.867845                 4  \n",
       "\n",
       "[1893 rows x 8 columns]"
      ]
     },
     "execution_count": 1,
     "metadata": {},
     "output_type": "execute_result"
    }
   ],
   "source": [
    "# Dependencies and Setup\n",
    "import matplotlib.pyplot as plt\n",
    "import pandas as pd\n",
    "import scipy.stats as st\n",
    "import numpy as np\n",
    "#from sklearn.linear_model import LinearRegression\n",
    "\n",
    "\n",
    "# Study data files\n",
    "mouse_metadata_path = \"data/Mouse_metadata.csv\"\n",
    "study_results_path = \"data/Study_results.csv\"\n",
    "\n",
    "# Read the mouse data and the study results\n",
    "mouse_metadata_df = pd.read_csv(mouse_metadata_path)\n",
    "study_results_df = pd.read_csv(study_results_path)\n",
    "\n",
    "# Combine the data into a single dataset\n",
    "combined_df = pd.merge(mouse_metadata_df, study_results_df, how='left', on='Mouse ID')\n",
    "combined_df"
   ]
  },
  {
   "cell_type": "code",
   "execution_count": 2,
   "metadata": {},
   "outputs": [
    {
     "data": {
      "text/plain": [
       "249"
      ]
     },
     "execution_count": 2,
     "metadata": {},
     "output_type": "execute_result"
    }
   ],
   "source": [
    "# Checking the number of mice in the DataFrame.\n",
    "combined_df['Mouse ID'].nunique()\n"
   ]
  },
  {
   "cell_type": "code",
   "execution_count": 4,
   "metadata": {},
   "outputs": [
    {
     "name": "stdout",
     "output_type": "stream",
     "text": [
      "Duplicate mice are: \n",
      "    Mouse ID Drug Regimen     Sex  Age_months  Weight (g)  Timepoint  \\\n",
      "909     g989     Propriva  Female          21          26          0   \n",
      "911     g989     Propriva  Female          21          26          5   \n",
      "913     g989     Propriva  Female          21          26         10   \n",
      "915     g989     Propriva  Female          21          26         15   \n",
      "917     g989     Propriva  Female          21          26         20   \n",
      "\n",
      "     Tumor Volume (mm3)  Metastatic Sites  \n",
      "909           45.000000                 0  \n",
      "911           47.570392                 0  \n",
      "913           49.880528                 0  \n",
      "915           53.442020                 0  \n",
      "917           54.657650                 1  \n"
     ]
    }
   ],
   "source": [
    "# Getting the duplicate mice by ID number that shows up for Mouse ID and Timepoint. \n",
    "duplicates_df = combined_df[combined_df.duplicated(['Mouse ID','Timepoint'])]\n",
    "print(\"Duplicate mice are: \", duplicates_df, sep='\\n')"
   ]
  },
  {
   "cell_type": "code",
   "execution_count": null,
   "metadata": {},
   "outputs": [],
   "source": [
    "# Optional: Get all the data for the duplicate mouse ID. \n"
   ]
  },
  {
   "cell_type": "code",
   "execution_count": 5,
   "metadata": {},
   "outputs": [
    {
     "name": "stdout",
     "output_type": "stream",
     "text": [
      "Duplicate mice are: \n",
      "Empty DataFrame\n",
      "Columns: [Mouse ID, Drug Regimen, Sex, Age_months, Weight (g), Timepoint, Tumor Volume (mm3), Metastatic Sites]\n",
      "Index: []\n"
     ]
    }
   ],
   "source": [
    "# Create a clean DataFrame by dropping the duplicate mouse by its ID.\n",
    "clean_df = combined_df.drop_duplicates(['Mouse ID','Timepoint'], keep='last')\n",
    "\n",
    "duplicates2_df = clean_df[clean_df.duplicated(['Mouse ID','Timepoint'])]\n",
    "\n",
    "\n",
    "print(\"Duplicate mice are: \", duplicates2_df, sep='\\n')"
   ]
  },
  {
   "cell_type": "code",
   "execution_count": 6,
   "metadata": {},
   "outputs": [
    {
     "data": {
      "text/plain": [
       "249"
      ]
     },
     "execution_count": 6,
     "metadata": {},
     "output_type": "execute_result"
    }
   ],
   "source": [
    "# Checking the number of mice in the clean DataFrame.\n",
    "clean_df['Mouse ID'].nunique()\n"
   ]
  },
  {
   "cell_type": "markdown",
   "metadata": {},
   "source": [
    "## Summary Statistics"
   ]
  },
  {
   "cell_type": "code",
   "execution_count": 7,
   "metadata": {},
   "outputs": [
    {
     "name": "stdout",
     "output_type": "stream",
     "text": [
      "                   Mean     Median        Var       STD       SEM\n",
      "Drug Regimen                                                     \n",
      "Capomulin     40.675741  41.557809  24.947764  4.994774  0.329346\n",
      "Ceftamin      52.591172  51.776157  39.290177  6.268188  0.469821\n",
      "Infubinol     52.884795  51.820584  43.128684  6.567243  0.492236\n",
      "Ketapril      55.235638  53.698743  68.553577  8.279709  0.603860\n",
      "Naftisol      54.331565  52.509285  66.173479  8.134708  0.596466\n",
      "Placebo       54.033581  52.288934  61.168083  7.821003  0.581331\n",
      "Propriva      52.382993  50.783528  43.220205  6.574208  0.526358\n",
      "Ramicane      40.216745  40.673236  23.486704  4.846308  0.320955\n",
      "Stelasyn      54.233149  52.431737  59.450562  7.710419  0.573111\n",
      "Zoniferol     53.236507  51.818479  48.533355  6.966589  0.516398\n"
     ]
    }
   ],
   "source": [
    "# Generate a summary statistics table of mean, median, variance, standard deviation, and SEM of the tumor volume for each regimen\n",
    "\n",
    "# This method is the most straighforward, creating multiple series and putting them all together at the end.\n",
    "\n",
    "drug_group = clean_df.groupby('Drug Regimen')\n",
    "mean_series = drug_group['Tumor Volume (mm3)'].mean()\n",
    "median_series = drug_group['Tumor Volume (mm3)'].median()\n",
    "var_series = drug_group['Tumor Volume (mm3)'].var()\n",
    "std_series = drug_group['Tumor Volume (mm3)'].std()\n",
    "sem_series = drug_group['Tumor Volume (mm3)'].sem()\n",
    "\n",
    "summary_df = pd.DataFrame({'Mean':mean_series,'Median':median_series,'Var':var_series,'STD':std_series,'SEM':sem_series})\n",
    "print(summary_df)\n"
   ]
  },
  {
   "cell_type": "code",
   "execution_count": 8,
   "metadata": {
    "scrolled": true
   },
   "outputs": [],
   "source": [
    "# Generate a summary statistics table of mean, median, variance, standard deviation, and SEM of the tumor volume for each regimen"
   ]
  },
  {
   "cell_type": "markdown",
   "metadata": {},
   "source": [
    "## Bar Plots"
   ]
  },
  {
   "cell_type": "code",
   "execution_count": 9,
   "metadata": {},
   "outputs": [
    {
     "data": {
      "text/plain": [
       "Drug Regimen\n",
       "Capomulin    230\n",
       "Ramicane     228\n",
       "Ketapril     188\n",
       "Naftisol     186\n",
       "Zoniferol    182\n",
       "Stelasyn     181\n",
       "Placebo      181\n",
       "Infubinol    178\n",
       "Ceftamin     178\n",
       "Propriva     156\n",
       "dtype: int64"
      ]
     },
     "execution_count": 9,
     "metadata": {},
     "output_type": "execute_result"
    }
   ],
   "source": [
    "clean_df.groupby('Drug Regimen').size().sort_values(ascending=False)\n"
   ]
  },
  {
   "cell_type": "code",
   "execution_count": 10,
   "metadata": {},
   "outputs": [
    {
     "data": {
      "text/plain": [
       "<matplotlib.axes._subplots.AxesSubplot at 0x236b5764248>"
      ]
     },
     "execution_count": 10,
     "metadata": {},
     "output_type": "execute_result"
    },
    {
     "data": {
      "image/png": "[encoded data removed]",
      "text/plain": [
       "<Figure size 432x288 with 1 Axes>"
      ]
     },
     "metadata": {
      "needs_background": "light"
     },
     "output_type": "display_data"
    }
   ],
   "source": [
    "# Generate a bar plot showing the number of mice per time point for each treatment throughout the course of the study using pandas. \n",
    "#using DataFrame.plot()\n",
    "\n",
    "#sort the dataframe to alphabetical to match the sample provided.\n",
    "\n",
    "counts = clean_df.groupby(by = 'Drug Regimen').size().sort_values(ascending=False)\n",
    "counts.plot.bar(title='Drug Regimen')"
   ]
  },
  {
   "cell_type": "code",
   "execution_count": 58,
   "metadata": {},
   "outputs": [
    {
     "data": {
      "image/png": "[encoded data removed]",
      "text/plain": [
       "<Figure size 432x288 with 1 Axes>"
      ]
     },
     "metadata": {
      "needs_background": "light"
     },
     "output_type": "display_data"
    }
   ],
   "source": [
    "# Generate a bar plot showing the number of mice per time point for each treatment throughout the course of the study using pyplot.\n",
    "# Using pyplot\n",
    "\n",
    "objects = clean_df['Drug Regimen'].unique().tolist()\n",
    "y_pos = np.arange(len(objects))\n",
    "\n",
    "counts = clean_df.groupby(by = 'Drug Regimen').size().sort_values(ascending=False)\n",
    "xlabels = counts.axes[1:10] # this didn't change the order...?\n",
    "\n",
    "plt.bar(y_pos, counts, align='center', alpha=0.5)\n",
    "plt.xticks(y_pos, objects)\n",
    "plt.xticks(rotation=90)\n",
    "\n",
    "plt.xlabel(xlabels) # why doesn't the order change?\n",
    "plt.ylabel('Timepoints')\n",
    "plt.title('Drug Regimen')\n",
    "\n",
    "plt.show()\n",
    "\n",
    "\n"
   ]
  },
  {
   "cell_type": "markdown",
   "metadata": {},
   "source": [
    "## Pie Plots"
   ]
  },
  {
   "cell_type": "code",
   "execution_count": 44,
   "metadata": {},
   "outputs": [
    {
     "data": {
      "text/plain": [
       "pandas.core.series.Series"
      ]
     },
     "execution_count": 44,
     "metadata": {},
     "output_type": "execute_result"
    }
   ],
   "source": [
    "type(counts)\n"
   ]
  },
  {
   "cell_type": "code",
   "execution_count": 12,
   "metadata": {},
   "outputs": [
    {
     "data": {
      "text/plain": [
       "<matplotlib.axes._subplots.AxesSubplot at 0x236b5baee88>"
      ]
     },
     "execution_count": 12,
     "metadata": {},
     "output_type": "execute_result"
    },
    {
     "data": {
      "image/png": "[encoded data removed]",
      "text/plain": [
       "<Figure size 432x288 with 1 Axes>"
      ]
     },
     "metadata": {},
     "output_type": "display_data"
    }
   ],
   "source": [
    "# Generate a pie plot showing the distribution of female versus male mice using pandas\n",
    "\n",
    "# basically we'll count the number male or female with unique mouse IDs.\n",
    "unique_mice_df = clean_df.drop_duplicates('Mouse ID')\n",
    "\n",
    "labels = ['Male','Female']\n",
    "\n",
    "unique_mice_df.Sex.value_counts().plot(kind='pie', y='Sex', labels=labels, autopct=\"%1.1f%%\")"
   ]
  },
  {
   "cell_type": "code",
   "execution_count": 13,
   "metadata": {},
   "outputs": [
    {
     "data": {
      "image/png": "[encoded data removed]",
      "text/plain": [
       "<Figure size 432x288 with 1 Axes>"
      ]
     },
     "metadata": {},
     "output_type": "display_data"
    }
   ],
   "source": [
    "# Generate a pie plot showing the distribution of female versus male mice using pyplot\n",
    "unique_mice_df = clean_df.drop_duplicates('Mouse ID')\n",
    "\n",
    "\n",
    "unique_mice_df.Sex.value_counts().plot.pie(autopct='%1.1f%%')\n",
    "plt.show()"
   ]
  },
  {
   "cell_type": "markdown",
   "metadata": {},
   "source": [
    "## Quartiles, Outliers and Boxplots"
   ]
  },
  {
   "cell_type": "code",
   "execution_count": 14,
   "metadata": {},
   "outputs": [
    {
     "data": {
      "text/plain": [
       "Timepoint\n",
       "0     249\n",
       "5     237\n",
       "10    222\n",
       "15    206\n",
       "20    194\n",
       "25    183\n",
       "30    171\n",
       "35    154\n",
       "40    142\n",
       "45    130\n",
       "dtype: int64"
      ]
     },
     "execution_count": 14,
     "metadata": {},
     "output_type": "execute_result"
    }
   ],
   "source": [
    "# Calculate the final tumor volume of each mouse across four of the most promising treatment regimens. \n",
    "# Calculate the IQR and quantitatively determine if there are any potential outliers. \n",
    "\n",
    "# check to see what the final timepoint for each mouse is.\n",
    "clean_df.groupby(by = 'Timepoint').size()\n",
    "\n",
    "# hmm. only 130 make it to Timepoint 45. \n"
   ]
  },
  {
   "cell_type": "code",
   "execution_count": 16,
   "metadata": {},
   "outputs": [],
   "source": [
    "# So we check for duplicate Mouse ID and keep the first timepoint record for the mouse.\n",
    "start_size_df=clean_df.drop_duplicates('Mouse ID', keep='first')\n",
    "\n",
    "# rename the tumor volume to start volume\n",
    "start_size_df.rename(columns = {'Tumor Volume (mm3)':'Start Volume'}, inplace=True)\n",
    "#start_size_df.columns\n",
    "#print(len(start_size_df['Tumor Volume (mm3)']))\n",
    "\n",
    "# check for dupes again, keeping only the last timepoint for the mouse.\n",
    "final_result_df=clean_df.drop_duplicates('Mouse ID', keep='last')\n",
    "\n",
    "# We only need a dataframe with the mouse ID and tumor volume\n",
    "final_result_df = final_result_df.loc[:,['Mouse ID','Tumor Volume (mm3)']]\n",
    "#final_result_df\n",
    "\n",
    "# let's rename the tumor volume to final volume\n",
    "final_result_df.rename(columns = {'Tumor Volume (mm3)':'Final Volume'}, inplace = True)\n",
    "#final_result_df\n",
    "\n",
    "# merge the two together\n",
    "start_final_df = start_size_df.merge(final_result_df, on='Mouse ID')\n",
    "#start_final_df.describe()"
   ]
  },
  {
   "cell_type": "code",
   "execution_count": 17,
   "metadata": {},
   "outputs": [
    {
     "data": {
      "text/html": [
       "<div>\n",
       "<style scoped>\n",
       "    .dataframe tbody tr th:only-of-type {\n",
       "        vertical-align: middle;\n",
       "    }\n",
       "\n",
       "    .dataframe tbody tr th {\n",
       "        vertical-align: top;\n",
       "    }\n",
       "\n",
       "    .dataframe thead th {\n",
       "        text-align: right;\n",
       "    }\n",
       "</style>\n",
       "<table border=\"1\" class=\"dataframe\">\n",
       "  <thead>\n",
       "    <tr style=\"text-align: right;\">\n",
       "      <th></th>\n",
       "      <th>Mouse ID</th>\n",
       "      <th>Drug Regimen</th>\n",
       "      <th>Sex</th>\n",
       "      <th>Age_months</th>\n",
       "      <th>Weight (g)</th>\n",
       "      <th>Timepoint</th>\n",
       "      <th>Start Volume</th>\n",
       "      <th>Metastatic Sites</th>\n",
       "      <th>Final Volume</th>\n",
       "      <th>Volume Change</th>\n",
       "    </tr>\n",
       "  </thead>\n",
       "  <tbody>\n",
       "    <tr>\n",
       "      <td>0</td>\n",
       "      <td>k403</td>\n",
       "      <td>Ramicane</td>\n",
       "      <td>Male</td>\n",
       "      <td>21</td>\n",
       "      <td>16</td>\n",
       "      <td>0</td>\n",
       "      <td>45.0</td>\n",
       "      <td>0</td>\n",
       "      <td>22.050126</td>\n",
       "      <td>22.949874</td>\n",
       "    </tr>\n",
       "    <tr>\n",
       "      <td>1</td>\n",
       "      <td>s185</td>\n",
       "      <td>Capomulin</td>\n",
       "      <td>Female</td>\n",
       "      <td>3</td>\n",
       "      <td>17</td>\n",
       "      <td>0</td>\n",
       "      <td>45.0</td>\n",
       "      <td>0</td>\n",
       "      <td>23.343598</td>\n",
       "      <td>21.656402</td>\n",
       "    </tr>\n",
       "    <tr>\n",
       "      <td>2</td>\n",
       "      <td>x401</td>\n",
       "      <td>Capomulin</td>\n",
       "      <td>Female</td>\n",
       "      <td>16</td>\n",
       "      <td>15</td>\n",
       "      <td>0</td>\n",
       "      <td>45.0</td>\n",
       "      <td>0</td>\n",
       "      <td>28.484033</td>\n",
       "      <td>16.515967</td>\n",
       "    </tr>\n",
       "    <tr>\n",
       "      <td>3</td>\n",
       "      <td>m601</td>\n",
       "      <td>Capomulin</td>\n",
       "      <td>Male</td>\n",
       "      <td>22</td>\n",
       "      <td>17</td>\n",
       "      <td>0</td>\n",
       "      <td>45.0</td>\n",
       "      <td>0</td>\n",
       "      <td>28.430964</td>\n",
       "      <td>16.569036</td>\n",
       "    </tr>\n",
       "    <tr>\n",
       "      <td>4</td>\n",
       "      <td>g791</td>\n",
       "      <td>Ramicane</td>\n",
       "      <td>Male</td>\n",
       "      <td>11</td>\n",
       "      <td>16</td>\n",
       "      <td>0</td>\n",
       "      <td>45.0</td>\n",
       "      <td>0</td>\n",
       "      <td>29.128472</td>\n",
       "      <td>15.871528</td>\n",
       "    </tr>\n",
       "    <tr>\n",
       "      <td>...</td>\n",
       "      <td>...</td>\n",
       "      <td>...</td>\n",
       "      <td>...</td>\n",
       "      <td>...</td>\n",
       "      <td>...</td>\n",
       "      <td>...</td>\n",
       "      <td>...</td>\n",
       "      <td>...</td>\n",
       "      <td>...</td>\n",
       "      <td>...</td>\n",
       "    </tr>\n",
       "    <tr>\n",
       "      <td>244</td>\n",
       "      <td>z314</td>\n",
       "      <td>Stelasyn</td>\n",
       "      <td>Female</td>\n",
       "      <td>21</td>\n",
       "      <td>28</td>\n",
       "      <td>0</td>\n",
       "      <td>45.0</td>\n",
       "      <td>0</td>\n",
       "      <td>45.934712</td>\n",
       "      <td>-0.934712</td>\n",
       "    </tr>\n",
       "    <tr>\n",
       "      <td>245</td>\n",
       "      <td>z435</td>\n",
       "      <td>Propriva</td>\n",
       "      <td>Female</td>\n",
       "      <td>12</td>\n",
       "      <td>26</td>\n",
       "      <td>0</td>\n",
       "      <td>45.0</td>\n",
       "      <td>0</td>\n",
       "      <td>48.710661</td>\n",
       "      <td>-3.710661</td>\n",
       "    </tr>\n",
       "    <tr>\n",
       "      <td>246</td>\n",
       "      <td>z581</td>\n",
       "      <td>Infubinol</td>\n",
       "      <td>Female</td>\n",
       "      <td>24</td>\n",
       "      <td>25</td>\n",
       "      <td>0</td>\n",
       "      <td>45.0</td>\n",
       "      <td>0</td>\n",
       "      <td>62.754451</td>\n",
       "      <td>-17.754451</td>\n",
       "    </tr>\n",
       "    <tr>\n",
       "      <td>247</td>\n",
       "      <td>z795</td>\n",
       "      <td>Naftisol</td>\n",
       "      <td>Female</td>\n",
       "      <td>13</td>\n",
       "      <td>29</td>\n",
       "      <td>0</td>\n",
       "      <td>45.0</td>\n",
       "      <td>0</td>\n",
       "      <td>65.741070</td>\n",
       "      <td>-20.741070</td>\n",
       "    </tr>\n",
       "    <tr>\n",
       "      <td>248</td>\n",
       "      <td>z969</td>\n",
       "      <td>Naftisol</td>\n",
       "      <td>Male</td>\n",
       "      <td>9</td>\n",
       "      <td>30</td>\n",
       "      <td>0</td>\n",
       "      <td>45.0</td>\n",
       "      <td>0</td>\n",
       "      <td>73.867845</td>\n",
       "      <td>-28.867845</td>\n",
       "    </tr>\n",
       "  </tbody>\n",
       "</table>\n",
       "<p>249 rows × 10 columns</p>\n",
       "</div>"
      ],
      "text/plain": [
       "    Mouse ID Drug Regimen     Sex  Age_months  Weight (g)  Timepoint  \\\n",
       "0       k403     Ramicane    Male          21          16          0   \n",
       "1       s185    Capomulin  Female           3          17          0   \n",
       "2       x401    Capomulin  Female          16          15          0   \n",
       "3       m601    Capomulin    Male          22          17          0   \n",
       "4       g791     Ramicane    Male          11          16          0   \n",
       "..       ...          ...     ...         ...         ...        ...   \n",
       "244     z314     Stelasyn  Female          21          28          0   \n",
       "245     z435     Propriva  Female          12          26          0   \n",
       "246     z581    Infubinol  Female          24          25          0   \n",
       "247     z795     Naftisol  Female          13          29          0   \n",
       "248     z969     Naftisol    Male           9          30          0   \n",
       "\n",
       "     Start Volume  Metastatic Sites  Final Volume  Volume Change  \n",
       "0            45.0                 0     22.050126      22.949874  \n",
       "1            45.0                 0     23.343598      21.656402  \n",
       "2            45.0                 0     28.484033      16.515967  \n",
       "3            45.0                 0     28.430964      16.569036  \n",
       "4            45.0                 0     29.128472      15.871528  \n",
       "..            ...               ...           ...            ...  \n",
       "244          45.0                 0     45.934712      -0.934712  \n",
       "245          45.0                 0     48.710661      -3.710661  \n",
       "246          45.0                 0     62.754451     -17.754451  \n",
       "247          45.0                 0     65.741070     -20.741070  \n",
       "248          45.0                 0     73.867845     -28.867845  \n",
       "\n",
       "[249 rows x 10 columns]"
      ]
     },
     "execution_count": 17,
     "metadata": {},
     "output_type": "execute_result"
    }
   ],
   "source": [
    "# create a column to hold the change in volume. The most positive is best.\n",
    "\n",
    "start_final_df['Volume Change'] = start_final_df['Start Volume'] - start_final_df['Final Volume']\n",
    "start_final_df\n"
   ]
  },
  {
   "cell_type": "code",
   "execution_count": 42,
   "metadata": {},
   "outputs": [
    {
     "data": {
      "text/plain": [
       "Drug Regimen\n",
       "Ramicane     36.191390\n",
       "Capomulin    36.667568\n",
       "Propriva     56.736964\n",
       "Ceftamin     57.753977\n",
       "Infubinol    58.178246\n",
       "Zoniferol    59.181258\n",
       "Placebo      60.508414\n",
       "Stelasyn     61.001707\n",
       "Naftisol     61.205757\n",
       "Ketapril     62.806191\n",
       "Name: Final Volume, dtype: float64"
      ]
     },
     "execution_count": 42,
     "metadata": {},
     "output_type": "execute_result"
    }
   ],
   "source": [
    "# group by drug\n",
    "drug2_group = start_final_df.groupby('Drug Regimen')\n",
    "\n",
    "# find the 4 best ones with the smallest average final turmor volume\n",
    "drug2_group['Final Volume'].mean().sort_values(ascending=True)\n",
    "\n",
    "#drug2_group['Volume Change'].mean().sort_values(ascending=False)\n",
    "\n",
    "##### Note, the sample shows Infubinol and not Propriva. Not sure how they came to that conclusion. \n",
    "##### for both final volume and change in volume, Propriva is better."
   ]
  },
  {
   "cell_type": "code",
   "execution_count": 19,
   "metadata": {},
   "outputs": [
    {
     "name": "stdout",
     "output_type": "stream",
     "text": [
      "Ramicane\n",
      "---------\n",
      "Q1:  31.56046955\n",
      "Q3:  40.65900627\n",
      "IQR: 9.098536719999998\n",
      "\n",
      "Capomulin\n",
      "---------\n",
      "Q1:  32.37735684\n",
      "Q3:  40.1592203\n",
      "IQR: 7.781863460000004\n",
      "\n",
      "Propriva\n",
      "---------\n",
      "Q1:  49.12296898\n",
      "Q3:  62.57087961\n",
      "IQR: 13.447910629999996\n",
      "\n",
      "Ceftamin\n",
      "---------\n",
      "Q1:  48.72207785\n",
      "Q3:  64.29983003\n",
      "IQR: 15.577752179999997\n",
      "\n",
      "Infubinol\n",
      "---------\n",
      "Q1:  54.04860769\n",
      "Q3:  65.52574285\n",
      "IQR: 11.477135160000003\n"
     ]
    }
   ],
   "source": [
    "# from the previous result, we see Ramicane, Capomulin, Propriva and Ceftamin have best results. I'll put in Infubinol too.\n",
    "\n",
    "# now for each drug, we calc IQR and quantiles based on the final results for each mouse.\n",
    "ramicane_df = start_final_df.loc[start_final_df['Drug Regimen']=='Ramicane']\n",
    "ramicane_Q1 = ramicane_df['Final Volume'].quantile(0.25)\n",
    "ramicane_Q3 = ramicane_df['Final Volume'].quantile(0.75)\n",
    "ramicane_IQR = ramicane_Q3 - ramicane_Q1\n",
    "print(\"Ramicane\")\n",
    "print(\"---------\")\n",
    "print(\"Q1: \", ramicane_Q1)\n",
    "print(\"Q3: \", ramicane_Q3)\n",
    "print(\"IQR:\", ramicane_IQR)\n",
    "print()\n",
    "\n",
    "capomulin_df = start_final_df.loc[start_final_df['Drug Regimen']=='Capomulin']\n",
    "capomulin_Q1 = capomulin_df['Final Volume'].quantile(0.25)\n",
    "capomulin_Q3 = capomulin_df['Final Volume'].quantile(0.75)\n",
    "capomulin_IQR = capomulin_Q3 - capomulin_Q1\n",
    "print(\"Capomulin\")\n",
    "print(\"---------\")\n",
    "print(\"Q1: \", capomulin_Q1)\n",
    "print(\"Q3: \", capomulin_Q3)\n",
    "print(\"IQR:\", capomulin_IQR)\n",
    "print()\n",
    "\n",
    "propriva_df = start_final_df.loc[start_final_df['Drug Regimen']=='Propriva']\n",
    "propriva_Q1 = propriva_df['Final Volume'].quantile(0.25)\n",
    "propriva_Q3 = propriva_df['Final Volume'].quantile(0.75)\n",
    "propriva_IQR = propriva_Q3 - propriva_Q1\n",
    "print(\"Propriva\")\n",
    "print(\"---------\")\n",
    "print(\"Q1: \", propriva_Q1)\n",
    "print(\"Q3: \", propriva_Q3)\n",
    "print(\"IQR:\", propriva_IQR)\n",
    "print()\n",
    "\n",
    "ceftamin_df = start_final_df.loc[start_final_df['Drug Regimen']=='Ceftamin']\n",
    "ceftamin_Q1 = ceftamin_df['Final Volume'].quantile(0.25)\n",
    "ceftamin_Q3 = ceftamin_df['Final Volume'].quantile(0.75)\n",
    "ceftamin_IQR = ceftamin_Q3 - ceftamin_Q1\n",
    "print(\"Ceftamin\")\n",
    "print(\"---------\")\n",
    "print(\"Q1: \", ceftamin_Q1)\n",
    "print(\"Q3: \", ceftamin_Q3)\n",
    "print(\"IQR:\", ceftamin_IQR)\n",
    "print()\n",
    "\n",
    "infubinol_df = start_final_df.loc[start_final_df['Drug Regimen']=='Infubinol']\n",
    "infubinol_Q1 = infubinol_df['Final Volume'].quantile(0.25)\n",
    "infubinol_Q3 = infubinol_df['Final Volume'].quantile(0.75)\n",
    "infubinol_IQR = infubinol_Q3 - infubinol_Q1\n",
    "print(\"Infubinol\")\n",
    "print(\"---------\")\n",
    "print(\"Q1: \", infubinol_Q1)\n",
    "print(\"Q3: \", infubinol_Q3)\n",
    "print(\"IQR:\", infubinol_IQR)"
   ]
  },
  {
   "cell_type": "code",
   "execution_count": 20,
   "metadata": {},
   "outputs": [
    {
     "data": {
      "image/png": "[encoded data removed]",
      "text/plain": [
       "<Figure size 720x432 with 1 Axes>"
      ]
     },
     "metadata": {
      "needs_background": "light"
     },
     "output_type": "display_data"
    }
   ],
   "source": [
    "# Generate a box plot of the final tumor volume of each mouse across four, er.. five regimens of interest\n",
    "\n",
    "# Create arrays of data\n",
    "ramicane_tumor_list = ramicane_df['Final Volume'].values.tolist()\n",
    "capomulin_tumor_list = capomulin_df['Final Volume'].values.tolist()\n",
    "infubinol_tumor_list = infubinol_df['Final Volume'].values.tolist()\n",
    "ceftamin_tumor_list = ceftamin_df['Final Volume'].values.tolist()\n",
    "propriva_tumor_list = propriva_df['Final Volume'].values.tolist()\n",
    "\n",
    "\n",
    "# Set a size.\n",
    "fig, ax1 = plt.subplots(figsize=(10,6))\n",
    "\n",
    "# y-axis label\n",
    "ax1.set_ylabel('Final Tumor Volume (mm3)')\n",
    "\n",
    "box_plot_data=[capomulin_tumor_list, ramicane_tumor_list, infubinol_tumor_list, ceftamin_tumor_list, propriva_tumor_list ]\n",
    "\n",
    "plt.boxplot(box_plot_data,patch_artist=True,labels=['Capomulin','Ramicane', 'Infubinol','Ceftamin','Propriva' ])\n",
    "\n",
    "plt.show()\n"
   ]
  },
  {
   "cell_type": "markdown",
   "metadata": {},
   "source": [
    "## Line and Scatter Plots"
   ]
  },
  {
   "cell_type": "code",
   "execution_count": 21,
   "metadata": {},
   "outputs": [
    {
     "data": {
      "text/plain": [
       "[<matplotlib.lines.Line2D at 0x236b5dea908>]"
      ]
     },
     "execution_count": 21,
     "metadata": {},
     "output_type": "execute_result"
    },
    {
     "data": {
      "image/png": "[encoded data removed]",
      "text/plain": [
       "<Figure size 720x432 with 1 Axes>"
      ]
     },
     "metadata": {
      "needs_background": "light"
     },
     "output_type": "display_data"
    }
   ],
   "source": [
    "# Generate a line plot of time point versus tumor volume for a mouse treated with Capomulin\n",
    "\n",
    "#We'll use Mouse ID l509\n",
    "mouse_l509_df = clean_df[clean_df['Mouse ID'] == 'l509']\n",
    "\n",
    "fig, ax1 = plt.subplots(figsize=(10,6))\n",
    "ax1.set_ylabel('Tumor Volume (mm3)')\n",
    "ax1.set_xlabel('Timepoint (days)')\n",
    "ax1.set_title('Capomulin treatment of mouse l509')\n",
    "\n",
    "plt.plot(mouse_l509_df['Timepoint'], mouse_l509_df['Tumor Volume (mm3)'])\n",
    "\n"
   ]
  },
  {
   "cell_type": "code",
   "execution_count": 23,
   "metadata": {},
   "outputs": [
    {
     "data": {
      "text/html": [
       "<div>\n",
       "<style scoped>\n",
       "    .dataframe tbody tr th:only-of-type {\n",
       "        vertical-align: middle;\n",
       "    }\n",
       "\n",
       "    .dataframe tbody tr th {\n",
       "        vertical-align: top;\n",
       "    }\n",
       "\n",
       "    .dataframe thead th {\n",
       "        text-align: right;\n",
       "    }\n",
       "</style>\n",
       "<table border=\"1\" class=\"dataframe\">\n",
       "  <thead>\n",
       "    <tr style=\"text-align: right;\">\n",
       "      <th></th>\n",
       "      <th>Mouse ID</th>\n",
       "      <th>Tumor Volume (mm3)</th>\n",
       "      <th>Weight (g)</th>\n",
       "    </tr>\n",
       "  </thead>\n",
       "  <tbody>\n",
       "    <tr>\n",
       "      <td>0</td>\n",
       "      <td>b128</td>\n",
       "      <td>41.963636</td>\n",
       "      <td>22</td>\n",
       "    </tr>\n",
       "    <tr>\n",
       "      <td>1</td>\n",
       "      <td>b742</td>\n",
       "      <td>40.083699</td>\n",
       "      <td>21</td>\n",
       "    </tr>\n",
       "    <tr>\n",
       "      <td>2</td>\n",
       "      <td>f966</td>\n",
       "      <td>36.505973</td>\n",
       "      <td>17</td>\n",
       "    </tr>\n",
       "    <tr>\n",
       "      <td>3</td>\n",
       "      <td>g288</td>\n",
       "      <td>41.990097</td>\n",
       "      <td>19</td>\n",
       "    </tr>\n",
       "    <tr>\n",
       "      <td>4</td>\n",
       "      <td>g316</td>\n",
       "      <td>44.613344</td>\n",
       "      <td>22</td>\n",
       "    </tr>\n",
       "    <tr>\n",
       "      <td>5</td>\n",
       "      <td>i557</td>\n",
       "      <td>44.805810</td>\n",
       "      <td>24</td>\n",
       "    </tr>\n",
       "    <tr>\n",
       "      <td>6</td>\n",
       "      <td>i738</td>\n",
       "      <td>39.141053</td>\n",
       "      <td>20</td>\n",
       "    </tr>\n",
       "    <tr>\n",
       "      <td>7</td>\n",
       "      <td>j119</td>\n",
       "      <td>44.465236</td>\n",
       "      <td>23</td>\n",
       "    </tr>\n",
       "    <tr>\n",
       "      <td>8</td>\n",
       "      <td>j246</td>\n",
       "      <td>43.216925</td>\n",
       "      <td>21</td>\n",
       "    </tr>\n",
       "    <tr>\n",
       "      <td>9</td>\n",
       "      <td>l509</td>\n",
       "      <td>44.434474</td>\n",
       "      <td>21</td>\n",
       "    </tr>\n",
       "    <tr>\n",
       "      <td>10</td>\n",
       "      <td>l897</td>\n",
       "      <td>42.507261</td>\n",
       "      <td>19</td>\n",
       "    </tr>\n",
       "    <tr>\n",
       "      <td>11</td>\n",
       "      <td>m601</td>\n",
       "      <td>34.847470</td>\n",
       "      <td>17</td>\n",
       "    </tr>\n",
       "    <tr>\n",
       "      <td>12</td>\n",
       "      <td>m957</td>\n",
       "      <td>39.049816</td>\n",
       "      <td>19</td>\n",
       "    </tr>\n",
       "    <tr>\n",
       "      <td>13</td>\n",
       "      <td>r157</td>\n",
       "      <td>45.798970</td>\n",
       "      <td>25</td>\n",
       "    </tr>\n",
       "    <tr>\n",
       "      <td>14</td>\n",
       "      <td>r554</td>\n",
       "      <td>36.509212</td>\n",
       "      <td>17</td>\n",
       "    </tr>\n",
       "    <tr>\n",
       "      <td>15</td>\n",
       "      <td>r944</td>\n",
       "      <td>43.367364</td>\n",
       "      <td>25</td>\n",
       "    </tr>\n",
       "    <tr>\n",
       "      <td>16</td>\n",
       "      <td>s185</td>\n",
       "      <td>34.559143</td>\n",
       "      <td>17</td>\n",
       "    </tr>\n",
       "    <tr>\n",
       "      <td>17</td>\n",
       "      <td>s710</td>\n",
       "      <td>42.803733</td>\n",
       "      <td>23</td>\n",
       "    </tr>\n",
       "    <tr>\n",
       "      <td>18</td>\n",
       "      <td>t565</td>\n",
       "      <td>39.328725</td>\n",
       "      <td>17</td>\n",
       "    </tr>\n",
       "    <tr>\n",
       "      <td>19</td>\n",
       "      <td>u364</td>\n",
       "      <td>39.887495</td>\n",
       "      <td>17</td>\n",
       "    </tr>\n",
       "    <tr>\n",
       "      <td>20</td>\n",
       "      <td>v923</td>\n",
       "      <td>41.581595</td>\n",
       "      <td>21</td>\n",
       "    </tr>\n",
       "    <tr>\n",
       "      <td>21</td>\n",
       "      <td>w150</td>\n",
       "      <td>41.384825</td>\n",
       "      <td>23</td>\n",
       "    </tr>\n",
       "    <tr>\n",
       "      <td>22</td>\n",
       "      <td>w914</td>\n",
       "      <td>41.352452</td>\n",
       "      <td>21</td>\n",
       "    </tr>\n",
       "    <tr>\n",
       "      <td>23</td>\n",
       "      <td>x401</td>\n",
       "      <td>36.182040</td>\n",
       "      <td>15</td>\n",
       "    </tr>\n",
       "    <tr>\n",
       "      <td>24</td>\n",
       "      <td>y793</td>\n",
       "      <td>38.506829</td>\n",
       "      <td>17</td>\n",
       "    </tr>\n",
       "  </tbody>\n",
       "</table>\n",
       "</div>"
      ],
      "text/plain": [
       "   Mouse ID  Tumor Volume (mm3)  Weight (g)\n",
       "0      b128           41.963636          22\n",
       "1      b742           40.083699          21\n",
       "2      f966           36.505973          17\n",
       "3      g288           41.990097          19\n",
       "4      g316           44.613344          22\n",
       "5      i557           44.805810          24\n",
       "6      i738           39.141053          20\n",
       "7      j119           44.465236          23\n",
       "8      j246           43.216925          21\n",
       "9      l509           44.434474          21\n",
       "10     l897           42.507261          19\n",
       "11     m601           34.847470          17\n",
       "12     m957           39.049816          19\n",
       "13     r157           45.798970          25\n",
       "14     r554           36.509212          17\n",
       "15     r944           43.367364          25\n",
       "16     s185           34.559143          17\n",
       "17     s710           42.803733          23\n",
       "18     t565           39.328725          17\n",
       "19     u364           39.887495          17\n",
       "20     v923           41.581595          21\n",
       "21     w150           41.384825          23\n",
       "22     w914           41.352452          21\n",
       "23     x401           36.182040          15\n",
       "24     y793           38.506829          17"
      ]
     },
     "execution_count": 23,
     "metadata": {},
     "output_type": "execute_result"
    }
   ],
   "source": [
    "# Generate a scatter plot of mouse weight versus average tumor volume for the Capomulin regimen\n",
    "\n",
    "scatter_df =clean_df.loc[clean_df['Drug Regimen'] == 'Capomulin']\n",
    "\n",
    "#Calculate average tumor volume per mouse and create a df of results\n",
    "avg_df = scatter_df.groupby('Mouse ID')['Tumor Volume (mm3)'].mean().to_frame()\n",
    "\n",
    "#create df of weights\n",
    "weight_df = mouse_metadata_df[['Mouse ID','Weight (g)']]\n",
    "\n",
    "#inner join them\n",
    "scatter_source_df = pd.merge(avg_df, weight_df, how='inner', on='Mouse ID')\n",
    "scatter_source_df"
   ]
  },
  {
   "cell_type": "code",
   "execution_count": 22,
   "metadata": {},
   "outputs": [
    {
     "data": {
      "text/plain": [
       "<matplotlib.collections.PathCollection at 0x236b5db0a48>"
      ]
     },
     "execution_count": 22,
     "metadata": {},
     "output_type": "execute_result"
    },
    {
     "data": {
      "image/png": "[encoded data removed]",
      "text/plain": [
       "<Figure size 720x432 with 1 Axes>"
      ]
     },
     "metadata": {
      "needs_background": "light"
     },
     "output_type": "display_data"
    }
   ],
   "source": [
    "\n",
    "\n",
    "fig, ax1 = plt.subplots(figsize=(10,6))\n",
    "ax1.set_ylabel('Average Tumor Volume (mm3)')\n",
    "ax1.set_xlabel('Weight (g)')\n",
    "     \n",
    "plt.scatter(scatter_source_df['Weight (g)'], scatter_source_df['Tumor Volume (mm3)'])"
   ]
  },
  {
   "cell_type": "markdown",
   "metadata": {},
   "source": [
    "## Correlation and Regression"
   ]
  },
  {
   "cell_type": "code",
   "execution_count": 24,
   "metadata": {},
   "outputs": [
    {
     "data": {
      "text/html": [
       "<div>\n",
       "<style scoped>\n",
       "    .dataframe tbody tr th:only-of-type {\n",
       "        vertical-align: middle;\n",
       "    }\n",
       "\n",
       "    .dataframe tbody tr th {\n",
       "        vertical-align: top;\n",
       "    }\n",
       "\n",
       "    .dataframe thead th {\n",
       "        text-align: right;\n",
       "    }\n",
       "</style>\n",
       "<table border=\"1\" class=\"dataframe\">\n",
       "  <thead>\n",
       "    <tr style=\"text-align: right;\">\n",
       "      <th></th>\n",
       "      <th>Tumor Volume (mm3)</th>\n",
       "      <th>Weight (g)</th>\n",
       "    </tr>\n",
       "  </thead>\n",
       "  <tbody>\n",
       "    <tr>\n",
       "      <td>Tumor Volume (mm3)</td>\n",
       "      <td>1.000000</td>\n",
       "      <td>0.841936</td>\n",
       "    </tr>\n",
       "    <tr>\n",
       "      <td>Weight (g)</td>\n",
       "      <td>0.841936</td>\n",
       "      <td>1.000000</td>\n",
       "    </tr>\n",
       "  </tbody>\n",
       "</table>\n",
       "</div>"
      ],
      "text/plain": [
       "                    Tumor Volume (mm3)  Weight (g)\n",
       "Tumor Volume (mm3)            1.000000    0.841936\n",
       "Weight (g)                    0.841936    1.000000"
      ]
     },
     "execution_count": 24,
     "metadata": {},
     "output_type": "execute_result"
    }
   ],
   "source": [
    "# Calculate the correlation coefficient and linear regression model \n",
    "# for mouse weight and average tumor volume for the Capomulin regimen\n",
    "\n",
    "#using scatter_source_df from before...\n",
    "scatter_source_df.corr(method='pearson')"
   ]
  },
  {
   "cell_type": "code",
   "execution_count": 25,
   "metadata": {},
   "outputs": [],
   "source": [
    "## Commented this all out to use the scipy library instead.\n",
    "\n",
    "#x = scatter_source_df.iloc[:,2].values.reshape(-1,1)\n",
    "#y = scatter_source_df.iloc[:,1].values.reshape(-1,1)\n",
    "\n",
    "#linear_regressor = LinearRegression()\n",
    "\n",
    "#linear_regressor.fit(x, y)\n",
    "#Y_pred = linear_regressor.predict(x)\n",
    "#Y_pred = linear_regressor.predict(scatter_source_df['Tumor Volume (mm3)'])"
   ]
  },
  {
   "cell_type": "code",
   "execution_count": 36,
   "metadata": {},
   "outputs": [
    {
     "name": "stdout",
     "output_type": "stream",
     "text": [
      "The r-squared is:  0.8419363424694718\n"
     ]
    },
    {
     "data": {
      "text/plain": [
       "[<matplotlib.lines.Line2D at 0x236b6516ac8>]"
      ]
     },
     "execution_count": 36,
     "metadata": {},
     "output_type": "execute_result"
    },
    {
     "data": {
      "image/png": "[encoded data removed]",
      "text/plain": [
       "<Figure size 432x288 with 1 Axes>"
      ]
     },
     "metadata": {
      "needs_background": "light"
     },
     "output_type": "display_data"
    }
   ],
   "source": [
    "#Get the linear regression\\n,\n",
    "slope, intercept, r_value, p_value, std_err = st.linregress(scatter_source_df['Weight (g)'], scatter_source_df['Tumor Volume (mm3)'])\n",
    "\n",
    "Y_pred = (slope * scatter_source_df['Weight (g)']) + intercept\n",
    "\n",
    "print('The r-squared is: ',r_value)\n",
    "\n",
    "#Plot the linear regression\n",
    "plt.plot(scatter_source_df['Weight (g)'], Y_pred, color = 'red')"
   ]
  },
  {
   "cell_type": "code",
   "execution_count": 37,
   "metadata": {},
   "outputs": [
    {
     "data": {
      "image/png": "[encoded data removed]",
      "text/plain": [
       "<Figure size 720x432 with 1 Axes>"
      ]
     },
     "metadata": {
      "needs_background": "light"
     },
     "output_type": "display_data"
    }
   ],
   "source": [
    "fig, ax1 = plt.subplots(figsize=(10,6))\n",
    "ax1.set_ylabel('Average Tumor Volume (mm3)')\n",
    "ax1.set_xlabel('Weight (g)')\n",
    "\n",
    "plt.scatter(x,y)\n",
    "plt.plot(scatter_source_df['Weight (g)'],Y_pred, color = 'red')\n",
    "\n",
    "plt.show()"
   ]
  },
  {
   "cell_type": "code",
   "execution_count": null,
   "metadata": {},
   "outputs": [],
   "source": []
  }
 ],
 "metadata": {
  "anaconda-cloud": {},
  "kernelspec": {
   "display_name": "Python 3",
   "language": "python",
   "name": "python3"
  },
  "language_info": {
   "codemirror_mode": {
    "name": "ipython",
    "version": 3
   },
   "file_extension": ".py",
   "mimetype": "text/x-python",
   "name": "python",
   "nbconvert_exporter": "python",
   "pygments_lexer": "ipython3",
   "version": "3.7.4"
  }
 },
 "nbformat": 4,
 "nbformat_minor": 2
}
